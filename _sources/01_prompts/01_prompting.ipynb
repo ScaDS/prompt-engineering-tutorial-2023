{
 "cells": [
  {
   "cell_type": "markdown",
   "id": "9ee67a8d-c234-4427-91c9-a0dc7033657e",
   "metadata": {},
   "source": [
    "# Prompting chatGPT\n",
    "In this notebook we will send basic prompts to chatGPT and receive answers. We will write a small `prompt` helper function that makes it more accessible."
   ]
  },
  {
   "cell_type": "code",
   "execution_count": 1,
   "id": "3b7ff58a-4c07-431b-b123-543023f75b75",
   "metadata": {},
   "outputs": [],
   "source": [
    "from openai import OpenAI\n",
    "\n",
    "from IPython.core.magic import register_line_cell_magic\n",
    "from IPython.display import display, Markdown"
   ]
  },
  {
   "cell_type": "markdown",
   "id": "33f1bf93-26e8-4d10-bd57-6ade5afdcd7f",
   "metadata": {},
   "source": [
    "A basic prompt requires to define the model we will be using as well as the role we have and the content/message we would like to be responded to. To make it more convenient we write a little helper function that allows us to retrieve the response to a message directly."
   ]
  },
  {
   "cell_type": "code",
   "execution_count": 2,
   "id": "f9406734-ba7a-4deb-8bb1-90b33c460d87",
   "metadata": {},
   "outputs": [],
   "source": [
    "@register_line_cell_magic\n",
    "def prompt(line:str, cell:str, model=\"gpt-3.5-turbo\"):\n",
    "    \"\"\"A prompt helper function that sends a message to openAI\n",
    "    and prints out the text response.\n",
    "    \"\"\"\n",
    "    message = line + \"\\n\" + cell\n",
    "    client = OpenAI()\n",
    "    response = client.chat.completions.create(\n",
    "        model=model,\n",
    "        messages=[{\"role\": \"user\", \"content\": message}]\n",
    "    )\n",
    "    text = response.choices[0].message.content\n",
    "    display(Markdown(text))"
   ]
  },
  {
   "cell_type": "code",
   "execution_count": 3,
   "id": "43c6f1dc-fb3c-463f-a144-90b017031600",
   "metadata": {},
   "outputs": [
    {
     "data": {
      "text/markdown": [
       "The countries in Central Europe are:\n",
       "\n",
       "1. Austria\n",
       "2. Czech Republic\n",
       "3. Germany (some parts are considered part of Central Europe)\n",
       "4. Hungary\n",
       "5. Poland\n",
       "6. Slovakia\n",
       "7. Slovenia (sometimes considered part of Central Europe)\n",
       "8. Switzerland (some parts are considered part of Central Europe)"
      ],
      "text/plain": [
       "<IPython.core.display.Markdown object>"
      ]
     },
     "metadata": {},
     "output_type": "display_data"
    }
   ],
   "source": [
    "%%prompt\n",
    "Which countries are in central Europe?"
   ]
  },
  {
   "cell_type": "code",
   "execution_count": 4,
   "id": "ed9c0e13-2f2b-421b-8230-425507372969",
   "metadata": {},
   "outputs": [
    {
     "data": {
      "text/markdown": [
       "Switzerland is located in central Europe, so there are no parts of Switzerland that are not part of central Europe."
      ],
      "text/plain": [
       "<IPython.core.display.Markdown object>"
      ]
     },
     "metadata": {},
     "output_type": "display_data"
    }
   ],
   "source": [
    "%%prompt\n",
    "Which parts of Switzerland are not central Europe?"
   ]
  },
  {
   "cell_type": "markdown",
   "id": "a256a055-c5ef-4846-a370-006c8a80a119",
   "metadata": {},
   "source": [
    "## A comment on reproducibility\n",
    "Note that prompt responses may not be very reproducible. You can execute the same prompt twice and receive different responses."
   ]
  },
  {
   "cell_type": "code",
   "execution_count": 5,
   "id": "8269c2a0-0a68-452d-9c20-1cabdaf66e1d",
   "metadata": {},
   "outputs": [
    {
     "data": {
      "text/markdown": [
       "The parts of Switzerland that are not considered central Europe are its overseas territories or colonies, as Switzerland does not have any. However, geographically speaking, Switzerland entirely lies within Central Europe."
      ],
      "text/plain": [
       "<IPython.core.display.Markdown object>"
      ]
     },
     "metadata": {},
     "output_type": "display_data"
    }
   ],
   "source": [
    "%%prompt\n",
    "Which parts of Switzerland are not central Europe?"
   ]
  },
  {
   "cell_type": "code",
   "execution_count": null,
   "id": "47f85f74-7742-4660-a60e-83e7c310b8f9",
   "metadata": {},
   "outputs": [],
   "source": []
  }
 ],
 "metadata": {
  "kernelspec": {
   "display_name": "Python 3 (ipykernel)",
   "language": "python",
   "name": "python3"
  },
  "language_info": {
   "codemirror_mode": {
    "name": "ipython",
    "version": 3
   },
   "file_extension": ".py",
   "mimetype": "text/x-python",
   "name": "python",
   "nbconvert_exporter": "python",
   "pygments_lexer": "ipython3",
   "version": "3.9.18"
  }
 },
 "nbformat": 4,
 "nbformat_minor": 5
}
