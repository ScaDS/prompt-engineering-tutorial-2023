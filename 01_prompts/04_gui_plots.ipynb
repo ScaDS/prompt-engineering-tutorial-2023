{
 "cells": [
  {
   "cell_type": "markdown",
   "id": "32b8a530-7f1a-4117-b5cf-17d2d356ed66",
   "metadata": {},
   "source": [
    "# Graphical user interfaces\n",
    "In this notebook we ask bob to create a user interface that allows interacting with a plot."
   ]
  },
  {
   "cell_type": "code",
   "execution_count": 1,
   "id": "c80f2dfa-811f-4553-b65f-877effaa152e",
   "metadata": {},
   "outputs": [],
   "source": [
    "from bia_bob import bob"
   ]
  },
  {
   "cell_type": "markdown",
   "id": "89a9baff-fb08-4484-b0b0-3a386aa91297",
   "metadata": {},
   "source": [
    "In this example we use a [videogame sales dataset by Gregory Smith](https://zenodo.org/records/5898311) which is licensed [CC-BY 4.0](https://creativecommons.org/licenses/by/4.0/legalcode)."
   ]
  },
  {
   "cell_type": "code",
   "execution_count": 2,
   "id": "4c58edef-c019-4de8-8a5c-e00ae366e6c0",
   "metadata": {},
   "outputs": [
    {
     "data": {
      "text/markdown": [
       "To accomplish this task, you can use the following code snippet:"
      ],
      "text/plain": [
       "<IPython.core.display.Markdown object>"
      ]
     },
     "metadata": {},
     "output_type": "display_data"
    }
   ],
   "source": [
    "%%bob\n",
    "write python code that\n",
    "* opens the file vgsales.csv using pandas\n",
    "* if the file doesn't exist, open it from https://zenodo.org/records/5898311/files/vgsales.csv?download=1 \n",
    "  and save it as vgsales.csv"
   ]
  },
  {
   "cell_type": "code",
   "execution_count": 3,
   "id": "8182c65a-4ca6-4870-8063-7b6235ec7e1d",
   "metadata": {},
   "outputs": [
    {
     "name": "stdout",
     "output_type": "stream",
     "text": [
      "   Rank                      Name Platform    Year         Genre Publisher   \n",
      "0     1                Wii Sports      Wii  2006.0        Sports  Nintendo  \\\n",
      "1     2         Super Mario Bros.      NES  1985.0      Platform  Nintendo   \n",
      "2     3            Mario Kart Wii      Wii  2008.0        Racing  Nintendo   \n",
      "3     4         Wii Sports Resort      Wii  2009.0        Sports  Nintendo   \n",
      "4     5  Pokemon Red/Pokemon Blue       GB  1996.0  Role-Playing  Nintendo   \n",
      "\n",
      "   NA_Sales  EU_Sales  JP_Sales  Other_Sales  Global_Sales  \n",
      "0     41.49     29.02      3.77         8.46         82.74  \n",
      "1     29.08      3.58      6.81         0.77         40.24  \n",
      "2     15.85     12.88      3.79         3.31         35.82  \n",
      "3     15.75     11.01      3.28         2.96         33.00  \n",
      "4     11.27      8.89     10.22         1.00         31.37  \n"
     ]
    }
   ],
   "source": [
    "import pandas as pd\n",
    "import os\n",
    "\n",
    "filename = 'vgsales.csv'\n",
    "\n",
    "if not os.path.isfile(filename):\n",
    "    url = 'https://zenodo.org/records/5898311/files/vgsales.csv?download=1'\n",
    "    df = pd.read_csv(url)\n",
    "    df.to_csv(filename, index=False)\n",
    "else:\n",
    "    df = pd.read_csv(filename)\n",
    "\n",
    "print(df.head())"
   ]
  },
  {
   "cell_type": "code",
   "execution_count": 7,
   "id": "9ae4de24-9793-4c6a-a95e-8f8bd6faa39f",
   "metadata": {},
   "outputs": [
    {
     "data": {
      "text/markdown": [
       "To fulfill the request, you can use the code snippet below to build a graphical user interface using ipywidgets that allows the user to select a publisher. After the publisher is selected, a bar plot showing the NA_Sales, EU_Sales, JP_Sales, and Other_Sales will be displayed below the dropdown widget."
      ],
      "text/plain": [
       "<IPython.core.display.Markdown object>"
      ]
     },
     "metadata": {},
     "output_type": "display_data"
    }
   ],
   "source": [
    "%%bob\n",
    "Build a graphical user interface using ipywidgets where the user can select the publisher. After the publisher is selected, draw a bar plot showing the NA_Sales, EU_Sales, JP_Sales and Other_Sales.\n",
    "The bar-plot should be shown right below the pulldown"
   ]
  },
  {
   "cell_type": "code",
   "execution_count": 8,
   "id": "536ef999-8a0c-47fc-aff6-db60b35f55bd",
   "metadata": {},
   "outputs": [
    {
     "data": {
      "application/vnd.jupyter.widget-view+json": {
       "model_id": "ca93bb80d0a3465295a335bacec87294",
       "version_major": 2,
       "version_minor": 0
      },
      "text/plain": [
       "Dropdown(description='Select Publisher:', options=('Nintendo', 'Microsoft Game Studios', 'Take-Two Interactive…"
      ]
     },
     "metadata": {},
     "output_type": "display_data"
    },
    {
     "data": {
      "application/vnd.jupyter.widget-view+json": {
       "model_id": "d50f0b6bc7ca413bb074efc67c431b85",
       "version_major": 2,
       "version_minor": 0
      },
      "text/plain": [
       "Output()"
      ]
     },
     "metadata": {},
     "output_type": "display_data"
    }
   ],
   "source": [
    "import pandas as pd\n",
    "import ipywidgets as widgets\n",
    "import matplotlib.pyplot as plt\n",
    "import seaborn as sns\n",
    "from IPython.display import display\n",
    "\n",
    "# Load the vgsales.csv file\n",
    "df = pd.read_csv('vgsales.csv')\n",
    "\n",
    "# Get the list of unique publishers\n",
    "publishers = df['Publisher'].unique().tolist()\n",
    "\n",
    "# Create the dropdown widget for publisher selection\n",
    "publisher_dropdown = widgets.Dropdown(\n",
    "    options=publishers,\n",
    "    description='Select Publisher:'\n",
    ")\n",
    "\n",
    "# Create an output widget for displaying the bar plot\n",
    "output_fig = widgets.Output()\n",
    "\n",
    "# Define the function to handle the selection event\n",
    "def on_publisher_selection(change):\n",
    "    selected_publisher = change.new\n",
    "    \n",
    "    # Filter the dataframe based on selected publisher\n",
    "    filtered_df = df[df['Publisher'] == selected_publisher]\n",
    "    \n",
    "    # Calculate the total sales by region\n",
    "    sales = filtered_df[['NA_Sales', 'EU_Sales', 'JP_Sales', 'Other_Sales']].sum()\n",
    "    \n",
    "    # Create a bar plot\n",
    "    fig, ax = plt.subplots(figsize=(10, 6))\n",
    "    ax.bar(sales.index, sales.values)\n",
    "    ax.set_xlabel('Region')\n",
    "    ax.set_ylabel('Sales')\n",
    "    ax.set_title(f'Sales by Region - {selected_publisher}')\n",
    "    \n",
    "    # Clear the output and display the bar plot\n",
    "    with output_fig:\n",
    "        output_fig.clear_output()\n",
    "        display(fig)\n",
    "\n",
    "# Attach the event handler to the dropdown widget's value change event\n",
    "publisher_dropdown.observe(on_publisher_selection, names='value')\n",
    "\n",
    "# Display the dropdown widget and the output widget\n",
    "display(publisher_dropdown)\n",
    "display(output_fig)"
   ]
  },
  {
   "cell_type": "code",
   "execution_count": null,
   "id": "3acf566d-6b90-4a00-a801-3144800a3cf7",
   "metadata": {},
   "outputs": [],
   "source": []
  },
  {
   "cell_type": "code",
   "execution_count": null,
   "id": "3961db3d-0b36-497c-85ac-26d3f18e2b9a",
   "metadata": {},
   "outputs": [],
   "source": []
  },
  {
   "cell_type": "code",
   "execution_count": null,
   "id": "ffa48ce4-12d2-4d96-b28f-004007e1c066",
   "metadata": {},
   "outputs": [],
   "source": []
  },
  {
   "cell_type": "code",
   "execution_count": null,
   "id": "2aba129a-24e6-424c-beec-258751fb6569",
   "metadata": {},
   "outputs": [],
   "source": []
  }
 ],
 "metadata": {
  "kernelspec": {
   "display_name": "Python 3 (ipykernel)",
   "language": "python",
   "name": "python3"
  },
  "language_info": {
   "codemirror_mode": {
    "name": "ipython",
    "version": 3
   },
   "file_extension": ".py",
   "mimetype": "text/x-python",
   "name": "python",
   "nbconvert_exporter": "python",
   "pygments_lexer": "ipython3",
   "version": "3.9.18"
  }
 },
 "nbformat": 4,
 "nbformat_minor": 5
}
