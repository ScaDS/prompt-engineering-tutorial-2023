{
 "cells": [
  {
   "cell_type": "markdown",
   "id": "32b8a530-7f1a-4117-b5cf-17d2d356ed66",
   "metadata": {},
   "source": [
    "# Graphical user interfaces\n",
    "In this notebook we ask bob to create a user interface that allows interacting with a plot."
   ]
  },
  {
   "cell_type": "code",
   "execution_count": 1,
   "id": "c80f2dfa-811f-4553-b65f-877effaa152e",
   "metadata": {},
   "outputs": [],
   "source": [
    "from bia_bob import bob"
   ]
  },
  {
   "cell_type": "markdown",
   "id": "89a9baff-fb08-4484-b0b0-3a386aa91297",
   "metadata": {},
   "source": [
    "In this example we use a [videogame sales dataset by Gregory Smith](https://zenodo.org/records/5898311) which is licensed [CC-BY 4.0](https://creativecommons.org/licenses/by/4.0/legalcode)."
   ]
  },
  {
   "cell_type": "code",
   "execution_count": 2,
   "id": "4c58edef-c019-4de8-8a5c-e00ae366e6c0",
   "metadata": {},
   "outputs": [
    {
     "data": {
      "text/markdown": [
       "### Plan:\n",
       "1. Import the `pandas` library.\n",
       "2. Try opening the file `vgsales.csv` using `pandas`.\n",
       "3. If the file doesn't exist, download it from the given URL and save it as `vgsales.csv`.\n",
       "\n",
       "### Code:\n"
      ],
      "text/plain": [
       "<IPython.core.display.Markdown object>"
      ]
     },
     "metadata": {},
     "output_type": "display_data"
    }
   ],
   "source": [
    "%%bob\n",
    "write python code that\n",
    "* opens the file vgsales.csv using pandas\n",
    "* if the file doesn't exist, open it from https://zenodo.org/records/5898311/files/vgsales.csv?download=1 \n",
    "  and save it as vgsales.csv"
   ]
  },
  {
   "cell_type": "code",
   "execution_count": 4,
   "id": "ad4d2766-a2d1-4c6d-8cea-580f4567bf12",
   "metadata": {},
   "outputs": [],
   "source": [
    "import pandas as pd\n",
    "\n",
    "# Try opening the file vgsales.csv\n",
    "try:\n",
    "    df = pd.read_csv('vgsales.csv')\n",
    "except FileNotFoundError:\n",
    "    # Download the file from the URL and save it as vgsales.csv\n",
    "    df = pd.read_csv('https://zenodo.org/records/5898311/files/vgsales.csv?download=1')\n",
    "    df.to_csv('vgsales.csv', index=False)"
   ]
  },
  {
   "cell_type": "code",
   "execution_count": 6,
   "id": "9ae4de24-9793-4c6a-a95e-8f8bd6faa39f",
   "metadata": {},
   "outputs": [
    {
     "data": {
      "text/markdown": [
       "### Plan:\n",
       "1. Import the required libraries: `pandas`, `ipywidgets`, and `matplotlib.pyplot`.\n",
       "2. Load the `vgsales.csv` file using `pandas` and store it in a DataFrame.\n",
       "3. Extract the unique publishers from the DataFrame.\n",
       "4. Create a dropdown widget using `ipywidgets` and populate it with the unique publishers.\n",
       "5. Create an output widget to display the bar plot.\n",
       "6. Create a function that takes the selected publisher as an argument, plots the bar plot of NA_Sales, EU_Sales, JP_Sales, and Other_Sales, and updates the output widget with the plot.\n",
       "7. Display the dropdown widget and the initial bar plot in the output widget.\n",
       "8. Use the `observe` method of the dropdown widget to call the plotting function whenever the selected publisher changes.\n",
       "\n",
       "### Code:\n"
      ],
      "text/plain": [
       "<IPython.core.display.Markdown object>"
      ]
     },
     "metadata": {},
     "output_type": "display_data"
    }
   ],
   "source": [
    "%%bob\n",
    "Build a graphical user interface using ipywidgets where the user \n",
    "can select the publisher. After the publisher is selected, draw \n",
    "a bar plot showing the NA_Sales, EU_Sales, JP_Sales and Other_Sales \n",
    "from the existing dataframe.\n",
    "The bar-plot should be shown right below the pulldown and updated \n",
    "once the pulldown changes."
   ]
  },
  {
   "cell_type": "code",
   "execution_count": 7,
   "id": "9389db6a-54e4-4515-9754-d6bcd75e3311",
   "metadata": {},
   "outputs": [
    {
     "data": {
      "application/vnd.jupyter.widget-view+json": {
       "model_id": "1750cb9641064734bcbd1ee2ef2b9f4a",
       "version_major": 2,
       "version_minor": 0
      },
      "text/plain": [
       "Dropdown(description='Publisher:', options=('Nintendo', 'Microsoft Game Studios', 'Take-Two Interactive', 'Son…"
      ]
     },
     "metadata": {},
     "output_type": "display_data"
    },
    {
     "data": {
      "application/vnd.jupyter.widget-view+json": {
       "model_id": "0f9a1272a8cc456fab203a686e035915",
       "version_major": 2,
       "version_minor": 0
      },
      "text/plain": [
       "Output()"
      ]
     },
     "metadata": {},
     "output_type": "display_data"
    }
   ],
   "source": [
    "import pandas as pd\n",
    "import ipywidgets as widgets\n",
    "import matplotlib.pyplot as plt\n",
    "\n",
    "# Load the vgsales.csv file using pandas\n",
    "df = pd.read_csv('vgsales.csv')\n",
    "\n",
    "# Extract the unique publishers from the DataFrame\n",
    "publishers = df['Publisher'].unique()\n",
    "\n",
    "# Create the dropdown widget\n",
    "dropdown = widgets.Dropdown(options=publishers, description='Publisher:')\n",
    "\n",
    "# Create the output widget for the bar plot\n",
    "output = widgets.Output()\n",
    "\n",
    "# Create the function to plot the bar plot\n",
    "def plot_sales(publisher):\n",
    "    with output:\n",
    "        output.clear_output()\n",
    "        sales = df[df['Publisher'] == publisher][['NA_Sales', 'EU_Sales', 'JP_Sales', 'Other_Sales']]\n",
    "        sales.plot(kind='bar', legend=False)\n",
    "        plt.title('Sales by Region')\n",
    "        plt.xlabel('Region')\n",
    "        plt.ylabel('Sales')\n",
    "        plt.show()\n",
    "\n",
    "# Display the dropdown widget and initial bar plot in the output widget\n",
    "display(dropdown)\n",
    "display(output)\n",
    "plot_sales(dropdown.value)\n",
    "\n",
    "# Use the observe method of the dropdown widget to update the bar plot\n",
    "dropdown.observe(lambda change: plot_sales(change.new), names='value')"
   ]
  },
  {
   "cell_type": "code",
   "execution_count": null,
   "id": "3acf566d-6b90-4a00-a801-3144800a3cf7",
   "metadata": {},
   "outputs": [],
   "source": []
  },
  {
   "cell_type": "code",
   "execution_count": null,
   "id": "3961db3d-0b36-497c-85ac-26d3f18e2b9a",
   "metadata": {},
   "outputs": [],
   "source": []
  },
  {
   "cell_type": "code",
   "execution_count": null,
   "id": "ffa48ce4-12d2-4d96-b28f-004007e1c066",
   "metadata": {},
   "outputs": [],
   "source": []
  },
  {
   "cell_type": "code",
   "execution_count": null,
   "id": "2aba129a-24e6-424c-beec-258751fb6569",
   "metadata": {},
   "outputs": [],
   "source": []
  }
 ],
 "metadata": {
  "kernelspec": {
   "display_name": "Python 3 (ipykernel)",
   "language": "python",
   "name": "python3"
  },
  "language_info": {
   "codemirror_mode": {
    "name": "ipython",
    "version": 3
   },
   "file_extension": ".py",
   "mimetype": "text/x-python",
   "name": "python",
   "nbconvert_exporter": "python",
   "pygments_lexer": "ipython3",
   "version": "3.9.16"
  }
 },
 "nbformat": 4,
 "nbformat_minor": 5
}
